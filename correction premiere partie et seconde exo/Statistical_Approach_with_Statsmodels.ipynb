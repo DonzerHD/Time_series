{
 "cells": [
  {
   "cell_type": "code",
   "execution_count": 1,
   "metadata": {},
   "outputs": [],
   "source": [
    "import pandas as pd\n",
    "import numpy as np\n",
    "import matplotlib.pyplot as plt\n",
    "import statsmodels as sm"
   ]
  },
  {
   "cell_type": "code",
   "execution_count": 3,
   "metadata": {},
   "outputs": [
    {
     "name": "stdout",
     "output_type": "stream",
     "text": [
      "<class 'pandas.core.frame.DataFrame'>\n",
      "DatetimeIndex: 3834 entries, 2012-12-31 00:00:00+00:00 to 2023-06-30 00:00:00+00:00\n",
      "Data columns (total 1 columns):\n",
      " #   Column                              Non-Null Count  Dtype  \n",
      "---  ------                              --------------  -----  \n",
      " 0   consommation_brute_electricite_rte  3834 non-null   float64\n",
      "dtypes: float64(1)\n",
      "memory usage: 59.9 KB\n"
     ]
    }
   ],
   "source": [
    "df = pd.read_csv('data/hdf_daily.csv', index_col=0, parse_dates=True)\n",
    "df.info()"
   ]
  },
  {
   "cell_type": "code",
   "execution_count": 4,
   "metadata": {},
   "outputs": [
    {
     "data": {
      "text/html": [
       "<div>\n",
       "<style scoped>\n",
       "    .dataframe tbody tr th:only-of-type {\n",
       "        vertical-align: middle;\n",
       "    }\n",
       "\n",
       "    .dataframe tbody tr th {\n",
       "        vertical-align: top;\n",
       "    }\n",
       "\n",
       "    .dataframe thead th {\n",
       "        text-align: right;\n",
       "    }\n",
       "</style>\n",
       "<table border=\"1\" class=\"dataframe\">\n",
       "  <thead>\n",
       "    <tr style=\"text-align: right;\">\n",
       "      <th></th>\n",
       "      <th>consommation_brute_electricite_rte</th>\n",
       "    </tr>\n",
       "    <tr>\n",
       "      <th>date_heure</th>\n",
       "      <th></th>\n",
       "    </tr>\n",
       "  </thead>\n",
       "  <tbody>\n",
       "    <tr>\n",
       "      <th>2012-12-31 00:00:00+00:00</th>\n",
       "      <td>5989.000000</td>\n",
       "    </tr>\n",
       "    <tr>\n",
       "      <th>2013-01-01 00:00:00+00:00</th>\n",
       "      <td>5412.687500</td>\n",
       "    </tr>\n",
       "    <tr>\n",
       "      <th>2013-01-02 00:00:00+00:00</th>\n",
       "      <td>6450.125000</td>\n",
       "    </tr>\n",
       "    <tr>\n",
       "      <th>2013-01-03 00:00:00+00:00</th>\n",
       "      <td>6668.416667</td>\n",
       "    </tr>\n",
       "    <tr>\n",
       "      <th>2013-01-04 00:00:00+00:00</th>\n",
       "      <td>6667.354167</td>\n",
       "    </tr>\n",
       "    <tr>\n",
       "      <th>...</th>\n",
       "      <td>...</td>\n",
       "    </tr>\n",
       "    <tr>\n",
       "      <th>2023-06-26 00:00:00+00:00</th>\n",
       "      <td>4589.083333</td>\n",
       "    </tr>\n",
       "    <tr>\n",
       "      <th>2023-06-27 00:00:00+00:00</th>\n",
       "      <td>4635.541667</td>\n",
       "    </tr>\n",
       "    <tr>\n",
       "      <th>2023-06-28 00:00:00+00:00</th>\n",
       "      <td>4759.458333</td>\n",
       "    </tr>\n",
       "    <tr>\n",
       "      <th>2023-06-29 00:00:00+00:00</th>\n",
       "      <td>4816.062500</td>\n",
       "    </tr>\n",
       "    <tr>\n",
       "      <th>2023-06-30 00:00:00+00:00</th>\n",
       "      <td>4656.227273</td>\n",
       "    </tr>\n",
       "  </tbody>\n",
       "</table>\n",
       "<p>3834 rows × 1 columns</p>\n",
       "</div>"
      ],
      "text/plain": [
       "                           consommation_brute_electricite_rte\n",
       "date_heure                                                   \n",
       "2012-12-31 00:00:00+00:00                         5989.000000\n",
       "2013-01-01 00:00:00+00:00                         5412.687500\n",
       "2013-01-02 00:00:00+00:00                         6450.125000\n",
       "2013-01-03 00:00:00+00:00                         6668.416667\n",
       "2013-01-04 00:00:00+00:00                         6667.354167\n",
       "...                                                       ...\n",
       "2023-06-26 00:00:00+00:00                         4589.083333\n",
       "2023-06-27 00:00:00+00:00                         4635.541667\n",
       "2023-06-28 00:00:00+00:00                         4759.458333\n",
       "2023-06-29 00:00:00+00:00                         4816.062500\n",
       "2023-06-30 00:00:00+00:00                         4656.227273\n",
       "\n",
       "[3834 rows x 1 columns]"
      ]
     },
     "execution_count": 4,
     "metadata": {},
     "output_type": "execute_result"
    }
   ],
   "source": [
    "df"
   ]
  },
  {
   "cell_type": "markdown",
   "metadata": {},
   "source": [
    "## 3.1 Approche statistique avec statmodels"
   ]
  },
  {
   "cell_type": "markdown",
   "metadata": {},
   "source": [
    "### Pourquoi est-on si attaché au fait que notre série temporelle soit stationnaire?\n",
    "\n",
    "La stationnarité d'une série temporelle est une condition préalable importante pour les modèles ARIMA et SARIMA car ces modèles, qui sont des régressions linéaires, font des prévisions basées sur l'hypothèse que les propriétés statistiques de la série (telles que la moyenne et la variance) sont constantes dans le temps. Cela garantit que les prédictions futures sont fiables et que les erreurs ne s'accroissent pas au fil du temps. Une série temporelle stationnaire facilite également l'identification des modèles appropriés, car les relations entre les points de données restent constantes.\n",
    "\n",
    "### Qu’est qu’un modèle AR, à quoi correspond le paramètre p?\n",
    "\n",
    "Un modèle AR (AutoRegressive) est un type de modèle de série temporelle qui utilise les valeurs des périodes précédentes comme variables prédictives pour prévoir la valeur actuelle. Le paramètre `p` dans le modèle AR représente le nombre de retards (ou \"lags\") inclus dans le modèle, c'est-à-dire le nombre de valeurs précédentes qui sont utilisées pour prédire la valeur actuelle. Par exemple, un modèle AR avec `p = 3` utiliserait les trois dernières observations dans la série pour faire une prévision pour le moment actuel.\n",
    "\n",
    "### Qu’est ce qu’un modèle MA, à quoi correspond le paramètre q?\n",
    "\n",
    "Un modèle MA (Moving Average) est également un type de modèle de série temporelle, mais au lieu d'utiliser les valeurs passées de la série, il utilise les erreurs de prévision des périodes précédentes pour prévoir la valeur actuelle. Le paramètre `q` représente le nombre de termes d'erreur inclus dans le modèle, signifiant le nombre d'erreurs de prévision passées qui sont utilisées comme variables prédictives.\n",
    "\n",
    "### Qu’est ce que le modèle ARIMA et à quoi correspond le paramètre d?\n",
    "\n",
    "Le modèle ARIMA (AutoRegressive Integrated Moving Average) est une extension du modèle ARMA qui inclut également une composante d'intégration. Le paramètre `d` représente l'ordre de différenciation nécessaire pour rendre la série temporelle stationnaire. En d'autres termes, il indique le nombre de fois que nous devons différencier la série pour obtenir une série stationnaire. Une fois la série rendue stationnaire, le modèle ARIMA utilise à la fois les composants AR et MA pour faire des prévisions.\n",
    "\n",
    "### Qu’est ce que le modèle SARIMA et à quoi correspond le paramètre s?\n",
    "\n",
    "Le modèle SARIMA (Seasonal ARIMA) est une extension du modèle ARIMA qui prend également en compte la saisonnalité dans la série temporelle. Le paramètre `s` représente la périodicité saisonnière de la série. Par exemple, pour des données mensuelles avec un cycle saisonnier annuel, `s` serait 12, indiquant que chaque saison dure 12 mois. Le modèle SARIMA utilise cette information pour améliorer les prévisions en tenant compte des effets saisonniers."
   ]
  }
 ],
 "metadata": {
  "kernelspec": {
   "display_name": "machine-learning",
   "language": "python",
   "name": "python3"
  },
  "language_info": {
   "codemirror_mode": {
    "name": "ipython",
    "version": 3
   },
   "file_extension": ".py",
   "mimetype": "text/x-python",
   "name": "python",
   "nbconvert_exporter": "python",
   "pygments_lexer": "ipython3",
   "version": "3.10.11"
  },
  "orig_nbformat": 4
 },
 "nbformat": 4,
 "nbformat_minor": 2
}
